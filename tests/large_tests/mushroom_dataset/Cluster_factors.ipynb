{
 "cells": [
  {
   "cell_type": "code",
   "execution_count": 7,
   "id": "initial_id",
   "metadata": {
    "collapsed": true,
    "ExecuteTime": {
     "end_time": "2023-10-13T10:53:39.619409Z",
     "start_time": "2023-10-13T10:53:39.616975Z"
    }
   },
   "outputs": [],
   "source": [
    "import pandas as pd\n",
    "\n",
    "def cluster_factors_corr(df, y_name): \n",
    "    \"\"\"\n",
    "    Clusters the factors (column names) in the dataset by the correlation of\n",
    "    columns with a certain outcome \n",
    "    Returns: a dictionary of factor names and their polarities clustered using correlations\n",
    "    \"\"\"\n",
    "    # take the correlations with y\n",
    "    cor_dict = zip(df.columns, df.corr()[y_name].astype(float))\n",
    "    return {key: \"pi\" if value > 1 else (\"un\" if value == 0 else \"delta\") for key, value in cor_dict}\n",
    "\n",
    "def cluster_factors_voting(df, y_name): \n",
    "    \"\"\"\n",
    "    Clusters the factors (column names) in the dataset with a voting mechanism, \n",
    "    where a factor which appears in the dataset with a certain outcome more times is assigned that polarity.\n",
    "    Returns: a dictionary of factor names and their polarities clustered using voting.\n",
    "    \"\"\"\n",
    "    true_votes = {column: ((df[column] == True) & (df[y_name] == True)).sum() for column in df.columns}\n",
    "    false_votes = {column: ((df[column] == False) & (df[y_name] == True)).sum() for column in df.columns}\n",
    "\n",
    "    return {key: \"pi\" if value > false_votes[key] else (\"un\" if value == false_votes[key] else \"delta\") for key, value in true_votes.items()}"
   ]
  },
  {
   "cell_type": "code",
   "execution_count": null,
   "outputs": [],
   "source": [],
   "metadata": {
    "collapsed": false
   },
   "id": "4ef80300c04d0d41"
  }
 ],
 "metadata": {
  "kernelspec": {
   "display_name": "Python 3",
   "language": "python",
   "name": "python3"
  },
  "language_info": {
   "codemirror_mode": {
    "name": "ipython",
    "version": 2
   },
   "file_extension": ".py",
   "mimetype": "text/x-python",
   "name": "python",
   "nbconvert_exporter": "python",
   "pygments_lexer": "ipython2",
   "version": "2.7.6"
  }
 },
 "nbformat": 4,
 "nbformat_minor": 5
}
