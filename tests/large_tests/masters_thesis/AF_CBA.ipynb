{
 "cells": [
  {
   "cell_type": "markdown",
   "metadata": {},
   "source": [
    "In this file we transform data into a case base and run an experiment using AF-CBA, as introduced in H. Prakken, A top-level model of case-based argumentation for explanation, which we call AF-CBA. In Proceedings of the ECAI 2020 Workshop on Dialogue, Explanation and Argumentation for Human-Agent Interaction (DEXA HAI 2020), to appear. URL: http://www.staff.science.uu.nl/~prakk101/papers/xarg20ws.pdf"
   ]
  },
  {
   "cell_type": "code",
   "execution_count": 1,
   "metadata": {},
   "outputs": [
    {
     "name": "stdout",
     "output_type": "stream",
     "text": [
      "importing Jupyter notebook from Data_preparation.ipynb\n",
      "importing Jupyter notebook from Classes.ipynb\n"
     ]
    }
   ],
   "source": [
    "import import_ipynb\n",
    "import pandas as pd\n",
    "\n",
    "# the data sets are prepared in another file\n",
    "import Data_preparation as d\n",
    "\n",
    "# the objects Case, Comparison, Feature and CB are defined in another file\n",
    "from Classes import Case, Comparison, Feature, CB"
   ]
  },
  {
   "cell_type": "code",
   "execution_count": 2,
   "metadata": {},
   "outputs": [],
   "source": [
    "# Receives a dataset, name of the outcome variables, list of binary features and \n",
    "# a list of feature correlations with the outcome variable,\n",
    "# Returns a case base\n",
    "def data_to_cb(data, y_name, binary, cor):\n",
    "    cor_dict = dict(zip(data.columns, cor))\n",
    "    \n",
    "    features = []\n",
    "    \n",
    "    for col in data.columns:\n",
    "        if col != y_name:\n",
    "            \n",
    "            # Tendencies are established based on the correlation with the outcome\n",
    "            if col in binary:\n",
    "                # Special treatment of factors, leaving value 0 undefined\n",
    "                if cor_dict[col] > 0:\n",
    "                    features.append(Feature(col, {0 : None, 1 : 1}, True))\n",
    "                else:\n",
    "                    features.append(Feature(col, {0 : None, 1 : 0}, True))\n",
    "\n",
    "            else:\n",
    "                if cor_dict[col] > 0:\n",
    "                    features.append(Feature(col, 1, False))\n",
    "                else:\n",
    "                    features.append(Feature(col, 0, False))\n",
    "                    \n",
    "    cb = []\n",
    "    \n",
    "    for i, row in data.iterrows():\n",
    "        outcome = row[y_name]\n",
    "        \n",
    "        f_s = {}\n",
    "        \n",
    "        for f in features:\n",
    "            f_s[f] = row[f.name]\n",
    "            \n",
    "        cb.append(Case(i, f_s, outcome))\n",
    "        \n",
    "    return(CB(cb))\n",
    "                \n",
    "            "
   ]
  },
  {
   "cell_type": "code",
   "execution_count": 3,
   "metadata": {},
   "outputs": [
    {
     "name": "stderr",
     "output_type": "stream",
     "text": [
      "C:\\Users\\rosar\\Anaconda3\\lib\\site-packages\\sklearn\\ensemble\\weight_boosting.py:29: DeprecationWarning: numpy.core.umath_tests is an internal NumPy module and should not be imported. It will be removed in a future NumPy release.\n",
      "  from numpy.core.umath_tests import inner1d\n"
     ]
    }
   ],
   "source": [
    "# Models to which the predictions can be compared \n",
    "# (Comparisons are not included)\n",
    "from sklearn.linear_model import LogisticRegression\n",
    "from sklearn.ensemble import AdaBoostClassifier\n",
    "\n",
    "def log_regression(test, train, y_name):\n",
    "    X_test = test.drop([y_name], axis=1)\n",
    "    y_test = test[y_name].astype('int')\n",
    "    X_train = train.drop([y_name], axis=1)\n",
    "    y_train = train[y_name].astype('int')\n",
    "    \n",
    "    model = LogisticRegression(solver = 'lbfgs')\n",
    "    model.fit(X_train, y_train)\n",
    "    \n",
    "    prediction_test = model.predict(X_test)\n",
    "\n",
    "    X_test['prediction'] = prediction_test\n",
    "    \n",
    "    return X_test\n",
    "\n",
    "\n",
    "def ada_predictions(test, train, y_name):\n",
    "    X_train = train.drop([y_name], axis=1)\n",
    "    y_train = train[y_name].astype('int')\n",
    "    X_test = test.drop([y_name], axis = 1)\n",
    "    y_test = test[y_name].astype('int')\n",
    "    \n",
    "    model = AdaBoostClassifier()\n",
    "    model.fit(X_train, y_train)\n",
    "    \n",
    "    prediction_test = model.predict(X_test)\n",
    "\n",
    "    X_test['prediction'] = prediction_test\n",
    "    \n",
    "    return X_test"
   ]
  },
  {
   "cell_type": "code",
   "execution_count": 4,
   "metadata": {},
   "outputs": [],
   "source": [
    "# Given a case base, returns a dataframe with results about the argument games tested on 20% of the case base\n",
    "def experiment(cb):\n",
    "\n",
    "    df = pd.DataFrame()\n",
    "    \n",
    "    test, train = cb.split(0.2)\n",
    "    \n",
    "    for focus in test.cases:\n",
    "        best_precedents = focus.find_precedents(train)\n",
    "\n",
    "        n_forced = 0\n",
    "        for c in best_precedents:\n",
    "            if not c.differences:\n",
    "                n_forced += 1\n",
    "                \n",
    "        # make a copy of the case which has the opposite outcome\n",
    "        switch_focus = Case(focus.name, focus.fs, focus.opposite_outcome)\n",
    "        s_best_precedents = switch_focus.find_precedents(train)\n",
    "        \n",
    "\n",
    "        s_n_forced = 0\n",
    "        for c in s_best_precedents:\n",
    "            if not c.differences:\n",
    "                s_n_forced += 1\n",
    "                \n",
    "                \n",
    "        result = {'focus_name' : focus.name, 'focus_outcome' : focus.outcome, 'n_pre' : len(best_precedents), 'n_forced' : n_forced,\n",
    "                 'forced' : n_forced > 0, 's_outcome' : switch_focus.outcome, 's_n_pre' : len(s_best_precedents), 's_n_forced' : s_n_forced,\n",
    "                 's_forced' : s_n_forced > 0}\n",
    "        df = df.append(result, ignore_index = True)\n",
    "        \n",
    "    return df\n"
   ]
  },
  {
   "cell_type": "code",
   "execution_count": 5,
   "metadata": {},
   "outputs": [],
   "source": [
    "# Example of how precedents and focus cases can be compared\n",
    "# NewPro, MissingCon and Better are no terms defined by Prakken, but are the differences\n",
    "# that could be used for substitution, cancellation and compensation\n",
    "\n",
    "\n",
    "def example_comparison(cb):\n",
    "    # Given a case base prints the comparison for the first three focus cases with a precedent\n",
    "    \n",
    "    test, train = cb.split(0.2)\n",
    "    \n",
    "    for focus in test.cases[0:3]:\n",
    "        best_precedents = focus.find_precedents(train)\n",
    "\n",
    "        precedent = best_precedents[0]\n",
    "        precedent.print_com()\n",
    "                "
   ]
  },
  {
   "cell_type": "code",
   "execution_count": 6,
   "metadata": {},
   "outputs": [],
   "source": [
    "# Run the experiment on the different data sets\n",
    "\n",
    "def run_admission():\n",
    "    data, y_name, binary, cor = d.get_admission()\n",
    "    ad_cb = data_to_cb(data, y_name, binary, cor)\n",
    "    admission_df = experiment(ad_cb)\n",
    "    \n",
    "    example_comparison(ad_cb)\n",
    "    \n",
    "    return admission_df\n",
    "\n",
    "    \n",
    "def run_churn():\n",
    "    data, y_name, binary, cor = d.get_churn()\n",
    "    data = data.iloc[0:100,:]\n",
    "    churn_cb = data_to_cb(data, y_name, binary, cor)\n",
    "    churn_df = experiment(churn_cb)\n",
    "    \n",
    "    example_comparison(churn_cb)\n",
    "    \n",
    "    return churn_df\n",
    "\n",
    "def run_mushroom():\n",
    "    data, y_name, binary, cor = d.get_mushroom()\n",
    "    data = data.iloc[0:100,:]\n",
    "    mush_cb = data_to_cb(data, y_name, binary, cor)\n",
    "    mush_df = experiment(mush_cb)\n",
    "    \n",
    "    example_comparison(mush_cb)\n",
    "    \n",
    "    return mush_df\n"
   ]
  }
 ],
 "metadata": {
  "kernelspec": {
   "display_name": "Python 3",
   "language": "python",
   "name": "python3"
  },
  "language_info": {
   "codemirror_mode": {
    "name": "ipython",
    "version": 3
   },
   "file_extension": ".py",
   "mimetype": "text/x-python",
   "name": "python",
   "nbconvert_exporter": "python",
   "pygments_lexer": "ipython3",
   "version": "3.6.5"
  }
 },
 "nbformat": 4,
 "nbformat_minor": 2
}
