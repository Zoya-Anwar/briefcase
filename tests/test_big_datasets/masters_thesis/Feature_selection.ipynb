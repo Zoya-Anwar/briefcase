{
 "cells": [
  {
   "cell_type": "markdown",
   "metadata": {},
   "source": [
    "In this file the feature selection algorithm is implemented"
   ]
  },
  {
   "cell_type": "code",
   "execution_count": 32,
   "metadata": {},
   "outputs": [],
   "source": [
    "import import_ipynb\n",
    "\n",
    "# the data sets are prepared in another file\n",
    "import Data_preparation as d\n",
    "\n",
    "# the objects Case, Feature and CB are defined in another file\n",
    "from Classes import Case, Feature, CB\n",
    "\n",
    "# the CBA algorithms are implemented in another file\n",
    "import CBA_algorithms_Chapter7 as CBA\n",
    "\n",
    "def feature_selection(data, y_name, con = False):\n",
    "    # given data and the label, returns a selection of best features\n",
    "    # optional: use the algorithm with a consistent case base (con = True)\n",
    "    \n",
    "    old_acc, new_acc, best_acc = 0, 0, 0\n",
    "    best = data.columns\n",
    "    r = 0.05\n",
    "    \n",
    "    # the algorithm terminates when the accuracy dropped by more than r after removing the last feature\n",
    "    while old_acc <= new_acc + r:\n",
    "        old_acc = new_acc\n",
    "\n",
    "        train, test, importance_dict = CBA.data_to_cb(data, y_name, data.columns)\n",
    "\n",
    "        if con:\n",
    "            train = train.make_consistent_cb(1)\n",
    "\n",
    "        # any CBA-algorithm can be used to measure the new accuracy\n",
    "        new_acc = CBA.test_balance(train, test, importance_dict)\n",
    "\n",
    "        print(new_acc)\n",
    "        print(data.columns)\n",
    "        \n",
    "        # when a best accuracy is reached the return value is updated\n",
    "        if best_acc <= new_acc:\n",
    "            best = data.columns\n",
    "            best_acc = new_acc\n",
    "\n",
    "        min_imp = min([abs(x) for x in importance_dict.values()])\n",
    "\n",
    "        # the features with minimal importancy are removed\n",
    "        for k, v in importance_dict.items():\n",
    "            if abs(v) == min_imp:\n",
    "                del data[k]\n",
    "                \n",
    "    return best"
   ]
  },
  {
   "cell_type": "code",
   "execution_count": 33,
   "metadata": {},
   "outputs": [],
   "source": [
    "def run_fs():\n",
    "    # example of running the feature selection\n",
    "    data, y_name, _, _ = d.get_churn()\n",
    "    # on a subset of the data\n",
    "    data = data.iloc[0:100,:]\n",
    "    \n",
    "    best = feature_selection(data, y_name)\n",
    "    print(best)"
   ]
  },
  {
   "cell_type": "code",
   "execution_count": null,
   "metadata": {},
   "outputs": [],
   "source": []
  }
 ],
 "metadata": {
  "kernelspec": {
   "display_name": "Python 3",
   "language": "python",
   "name": "python3"
  },
  "language_info": {
   "codemirror_mode": {
    "name": "ipython",
    "version": 3
   },
   "file_extension": ".py",
   "mimetype": "text/x-python",
   "name": "python",
   "nbconvert_exporter": "python",
   "pygments_lexer": "ipython3",
   "version": "3.6.5"
  }
 },
 "nbformat": 4,
 "nbformat_minor": 2
}
