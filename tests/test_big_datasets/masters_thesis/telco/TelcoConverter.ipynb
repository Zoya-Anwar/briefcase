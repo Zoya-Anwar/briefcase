{
 "cells": [
  {
   "cell_type": "code",
   "execution_count": 10,
   "id": "initial_id",
   "metadata": {
    "collapsed": true,
    "ExecuteTime": {
     "end_time": "2024-03-11T09:43:52.352951Z",
     "start_time": "2024-03-11T09:43:52.320582Z"
    }
   },
   "outputs": [],
   "source": [
    "from collections import Counter\n",
    "import pandas as pd\n",
    "import import_ipynb\n",
    "from cluster_factors.cluster_binary_factors import cluster_factors_voting, cluster_factors_rand_un, cluster_factors_corr, cluster_factors_rand\n",
    "import yaml\n",
    "\n",
    "\n",
    "def get_df():\n",
    "    # Load the dataset\n",
    "    df = pd.read_csv('data/telco.csv')\n",
    "    \n",
    "    # Drop numerical columns\n",
    "    df = df.select_dtypes(exclude=['int64', 'float64'])\n",
    "    df = df.drop('TotalCharges', axis=1)\n",
    "    df = df.drop('customerID', axis=1)\n",
    "    \n",
    "    # Replace \"Yes\" and \"No\" with 1 and 0 respectively for binary columns\n",
    "    binary_columns = ['Partner', 'Dependents', 'PhoneService', 'OnlineSecurity', 'OnlineBackup', 'DeviceProtection', \n",
    "                      'TechSupport', 'StreamingTV', 'StreamingMovies', 'PaperlessBilling', 'Churn']\n",
    "    for col in binary_columns:\n",
    "        df[col] = df[col].map({'Yes': True, 'No': False})\n",
    "        \n",
    "    df_encoded = pd.get_dummies(df)\n",
    "\n",
    "    return df_encoded, 'Churn'\n",
    "\n",
    "\n",
    "def convert_to_dict(test_df, y_name, factors):\n",
    "    \n",
    "    # create a dictionary \n",
    "    cases = []\n",
    "    for i, row in test_df.iterrows():\n",
    "        case = {\n",
    "            \"pi\": [],\n",
    "            \"delta\": [],\n",
    "            \"reason\": [],\n",
    "            \"decision\": None\n",
    "        }\n",
    "        \n",
    "        for col, value in row.items(): # iterate through all factor candidates in case\n",
    "            if value and col != y_name: # only add factor if True\n",
    "                if factors[col] == \"pi\" and value: #  pi (True) factor\n",
    "                    case[\"pi\"].append(col)\n",
    "                elif factors[col] == \"delta\" and value: #  delta (False) factor\n",
    "                    case[\"delta\"].append(col)\n",
    "                else: # todo: neutral/undecided case \n",
    "                    pass\n",
    "        \n",
    "        # for the mushroom dataset the reason is the same as the decision \n",
    "        if row[y_name]:\n",
    "            case[\"reason\"] = case[\"pi\"]\n",
    "            case[\"decision\"] = \"pi\"\n",
    "        elif not row[y_name]:\n",
    "            case[\"reason\"] = case[\"delta\"]  \n",
    "            case[\"decision\"] = \"delta\"\n",
    "            \n",
    "        cases.append(case)\n",
    "    \n",
    "    return cases\n",
    "\n",
    "def display_facotrs(factors):\n",
    "    # Initialize counters for each factor type\n",
    "    pis = []\n",
    "    deltas = []\n",
    "    uns = []\n",
    "    \n",
    "    # Count the occurrences of each factor type\n",
    "    for factor, factor_type in factors.items():\n",
    "        if factor_type == 'pi':\n",
    "            pis.append(factor)\n",
    "        elif factor_type == 'delta':\n",
    "            deltas.append(factor)\n",
    "        else:\n",
    "            uns.append(factor)\n",
    "    \n",
    "    # Print the counts for each factor type\n",
    "    print(\"Number of factors by type:\")\n",
    "    print(f\"PI factors: {len(pis)} - {pis}\")\n",
    "    print(f\"Delta factors: {len(deltas)} - {deltas}\")\n",
    "    print(f\"UN factors: {len(uns)} - {uns}\")\n",
    "    \n",
    "def dataset_to_yaml(cluster_type=\"corr\", test_split=0.5):\n",
    "    # import data, name of the outcome variables \n",
    "    df, y_name = get_df()\n",
    "    \n",
    "    # Set the seed for reproducibility\n",
    "    df = df.sample(frac=1, random_state=42)\n",
    "    \n",
    "    # Determine the split point\n",
    "    # Training is for the factor clustering\n",
    "    split_point = int(test_split * len(df))\n",
    "    \n",
    "    # Split the DataFrame\n",
    "    test_df = df.iloc[:split_point]\n",
    "    train_df = df.iloc[split_point:]\n",
    "    \n",
    "    # get factor clusters using chosen clustering method\n",
    "    if cluster_type == \"corr\": \n",
    "        factors = cluster_factors_corr(train_df, y_name)\n",
    "    elif cluster_type == \"vote\": \n",
    "        factors = cluster_factors_voting(train_df, y_name)\n",
    "    elif cluster_type == \"rand_un\":\n",
    "        factors = cluster_factors_rand_un(train_df, y_name)\n",
    "    else: \n",
    "        factors = cluster_factors_rand(train_df, y_name)\n",
    "        \n",
    "    display_facotrs(factors)    \n",
    "    \n",
    "    # get dict format of cases\n",
    "    cases_dict = convert_to_dict(test_df, y_name, factors)    \n",
    "    filename = f\"data/telco-{cluster_type}-test-{test_split}.yaml\"\n",
    "\n",
    "    # Write the dictionary to a new YAML file\n",
    "    with open(filename, \"w\") as yaml_file:\n",
    "        yaml.dump(cases_dict, yaml_file, default_flow_style=False)\n",
    "        \n",
    "    return cases_dict\n",
    "\n",
    "def get_existing_test_data(cluster=\"corr\", test_split=\"0.25\"):\n",
    "\n",
    "    filename = f\"data/telco-{cluster}-test-{test_split}.yaml\"\n",
    "    \n",
    "    try:\n",
    "        with open(filename, 'r') as file:\n",
    "            data = yaml.safe_load(file)\n",
    "        print(f\"Loaded data successfully from '{filename}'\")\n",
    "    except FileNotFoundError:\n",
    "        print(f\"File '{filename}' not found.\")\n",
    "        print(f\"Creating new file\")\n",
    "        data = dataset_to_yaml(cluster, float(test_split))\n",
    "    except Exception as e:\n",
    "        print(\"An error occurred:\", str(e))\n",
    "        \n",
    "    return data "
   ]
  },
  {
   "cell_type": "code",
   "execution_count": 20,
   "outputs": [
    {
     "data": {
      "text/plain": "      customerID  gender  SeniorCitizen Partner Dependents  tenure  \\\n0     7590-VHVEG  Female              0     Yes         No       1   \n1     5575-GNVDE    Male              0      No         No      34   \n2     3668-QPYBK    Male              0      No         No       2   \n3     7795-CFOCW    Male              0      No         No      45   \n4     9237-HQITU  Female              0      No         No       2   \n...          ...     ...            ...     ...        ...     ...   \n7038  6840-RESVB    Male              0     Yes        Yes      24   \n7039  2234-XADUH  Female              0     Yes        Yes      72   \n7040  4801-JZAZL  Female              0     Yes        Yes      11   \n7041  8361-LTMKD    Male              1     Yes         No       4   \n7042  3186-AJIEK    Male              0      No         No      66   \n\n     PhoneService     MultipleLines InternetService OnlineSecurity  ...  \\\n0              No  No phone service             DSL             No  ...   \n1             Yes                No             DSL            Yes  ...   \n2             Yes                No             DSL            Yes  ...   \n3              No  No phone service             DSL            Yes  ...   \n4             Yes                No     Fiber optic             No  ...   \n...           ...               ...             ...            ...  ...   \n7038          Yes               Yes             DSL            Yes  ...   \n7039          Yes               Yes     Fiber optic             No  ...   \n7040           No  No phone service             DSL            Yes  ...   \n7041          Yes               Yes     Fiber optic             No  ...   \n7042          Yes                No     Fiber optic            Yes  ...   \n\n     DeviceProtection TechSupport StreamingTV StreamingMovies        Contract  \\\n0                  No          No          No              No  Month-to-month   \n1                 Yes          No          No              No        One year   \n2                  No          No          No              No  Month-to-month   \n3                 Yes         Yes          No              No        One year   \n4                  No          No          No              No  Month-to-month   \n...               ...         ...         ...             ...             ...   \n7038              Yes         Yes         Yes             Yes        One year   \n7039              Yes          No         Yes             Yes        One year   \n7040               No          No          No              No  Month-to-month   \n7041               No          No          No              No  Month-to-month   \n7042              Yes         Yes         Yes             Yes        Two year   \n\n     PaperlessBilling              PaymentMethod MonthlyCharges  TotalCharges  \\\n0                 Yes           Electronic check          29.85         29.85   \n1                  No               Mailed check          56.95        1889.5   \n2                 Yes               Mailed check          53.85        108.15   \n3                  No  Bank transfer (automatic)          42.30       1840.75   \n4                 Yes           Electronic check          70.70        151.65   \n...               ...                        ...            ...           ...   \n7038              Yes               Mailed check          84.80        1990.5   \n7039              Yes    Credit card (automatic)         103.20        7362.9   \n7040              Yes           Electronic check          29.60        346.45   \n7041              Yes               Mailed check          74.40         306.6   \n7042              Yes  Bank transfer (automatic)         105.65        6844.5   \n\n     Churn  \n0       No  \n1       No  \n2      Yes  \n3       No  \n4      Yes  \n...    ...  \n7038    No  \n7039    No  \n7040    No  \n7041   Yes  \n7042    No  \n\n[7043 rows x 21 columns]",
      "text/html": "<div>\n<style scoped>\n    .dataframe tbody tr th:only-of-type {\n        vertical-align: middle;\n    }\n\n    .dataframe tbody tr th {\n        vertical-align: top;\n    }\n\n    .dataframe thead th {\n        text-align: right;\n    }\n</style>\n<table border=\"1\" class=\"dataframe\">\n  <thead>\n    <tr style=\"text-align: right;\">\n      <th></th>\n      <th>customerID</th>\n      <th>gender</th>\n      <th>SeniorCitizen</th>\n      <th>Partner</th>\n      <th>Dependents</th>\n      <th>tenure</th>\n      <th>PhoneService</th>\n      <th>MultipleLines</th>\n      <th>InternetService</th>\n      <th>OnlineSecurity</th>\n      <th>...</th>\n      <th>DeviceProtection</th>\n      <th>TechSupport</th>\n      <th>StreamingTV</th>\n      <th>StreamingMovies</th>\n      <th>Contract</th>\n      <th>PaperlessBilling</th>\n      <th>PaymentMethod</th>\n      <th>MonthlyCharges</th>\n      <th>TotalCharges</th>\n      <th>Churn</th>\n    </tr>\n  </thead>\n  <tbody>\n    <tr>\n      <th>0</th>\n      <td>7590-VHVEG</td>\n      <td>Female</td>\n      <td>0</td>\n      <td>Yes</td>\n      <td>No</td>\n      <td>1</td>\n      <td>No</td>\n      <td>No phone service</td>\n      <td>DSL</td>\n      <td>No</td>\n      <td>...</td>\n      <td>No</td>\n      <td>No</td>\n      <td>No</td>\n      <td>No</td>\n      <td>Month-to-month</td>\n      <td>Yes</td>\n      <td>Electronic check</td>\n      <td>29.85</td>\n      <td>29.85</td>\n      <td>No</td>\n    </tr>\n    <tr>\n      <th>1</th>\n      <td>5575-GNVDE</td>\n      <td>Male</td>\n      <td>0</td>\n      <td>No</td>\n      <td>No</td>\n      <td>34</td>\n      <td>Yes</td>\n      <td>No</td>\n      <td>DSL</td>\n      <td>Yes</td>\n      <td>...</td>\n      <td>Yes</td>\n      <td>No</td>\n      <td>No</td>\n      <td>No</td>\n      <td>One year</td>\n      <td>No</td>\n      <td>Mailed check</td>\n      <td>56.95</td>\n      <td>1889.5</td>\n      <td>No</td>\n    </tr>\n    <tr>\n      <th>2</th>\n      <td>3668-QPYBK</td>\n      <td>Male</td>\n      <td>0</td>\n      <td>No</td>\n      <td>No</td>\n      <td>2</td>\n      <td>Yes</td>\n      <td>No</td>\n      <td>DSL</td>\n      <td>Yes</td>\n      <td>...</td>\n      <td>No</td>\n      <td>No</td>\n      <td>No</td>\n      <td>No</td>\n      <td>Month-to-month</td>\n      <td>Yes</td>\n      <td>Mailed check</td>\n      <td>53.85</td>\n      <td>108.15</td>\n      <td>Yes</td>\n    </tr>\n    <tr>\n      <th>3</th>\n      <td>7795-CFOCW</td>\n      <td>Male</td>\n      <td>0</td>\n      <td>No</td>\n      <td>No</td>\n      <td>45</td>\n      <td>No</td>\n      <td>No phone service</td>\n      <td>DSL</td>\n      <td>Yes</td>\n      <td>...</td>\n      <td>Yes</td>\n      <td>Yes</td>\n      <td>No</td>\n      <td>No</td>\n      <td>One year</td>\n      <td>No</td>\n      <td>Bank transfer (automatic)</td>\n      <td>42.30</td>\n      <td>1840.75</td>\n      <td>No</td>\n    </tr>\n    <tr>\n      <th>4</th>\n      <td>9237-HQITU</td>\n      <td>Female</td>\n      <td>0</td>\n      <td>No</td>\n      <td>No</td>\n      <td>2</td>\n      <td>Yes</td>\n      <td>No</td>\n      <td>Fiber optic</td>\n      <td>No</td>\n      <td>...</td>\n      <td>No</td>\n      <td>No</td>\n      <td>No</td>\n      <td>No</td>\n      <td>Month-to-month</td>\n      <td>Yes</td>\n      <td>Electronic check</td>\n      <td>70.70</td>\n      <td>151.65</td>\n      <td>Yes</td>\n    </tr>\n    <tr>\n      <th>...</th>\n      <td>...</td>\n      <td>...</td>\n      <td>...</td>\n      <td>...</td>\n      <td>...</td>\n      <td>...</td>\n      <td>...</td>\n      <td>...</td>\n      <td>...</td>\n      <td>...</td>\n      <td>...</td>\n      <td>...</td>\n      <td>...</td>\n      <td>...</td>\n      <td>...</td>\n      <td>...</td>\n      <td>...</td>\n      <td>...</td>\n      <td>...</td>\n      <td>...</td>\n      <td>...</td>\n    </tr>\n    <tr>\n      <th>7038</th>\n      <td>6840-RESVB</td>\n      <td>Male</td>\n      <td>0</td>\n      <td>Yes</td>\n      <td>Yes</td>\n      <td>24</td>\n      <td>Yes</td>\n      <td>Yes</td>\n      <td>DSL</td>\n      <td>Yes</td>\n      <td>...</td>\n      <td>Yes</td>\n      <td>Yes</td>\n      <td>Yes</td>\n      <td>Yes</td>\n      <td>One year</td>\n      <td>Yes</td>\n      <td>Mailed check</td>\n      <td>84.80</td>\n      <td>1990.5</td>\n      <td>No</td>\n    </tr>\n    <tr>\n      <th>7039</th>\n      <td>2234-XADUH</td>\n      <td>Female</td>\n      <td>0</td>\n      <td>Yes</td>\n      <td>Yes</td>\n      <td>72</td>\n      <td>Yes</td>\n      <td>Yes</td>\n      <td>Fiber optic</td>\n      <td>No</td>\n      <td>...</td>\n      <td>Yes</td>\n      <td>No</td>\n      <td>Yes</td>\n      <td>Yes</td>\n      <td>One year</td>\n      <td>Yes</td>\n      <td>Credit card (automatic)</td>\n      <td>103.20</td>\n      <td>7362.9</td>\n      <td>No</td>\n    </tr>\n    <tr>\n      <th>7040</th>\n      <td>4801-JZAZL</td>\n      <td>Female</td>\n      <td>0</td>\n      <td>Yes</td>\n      <td>Yes</td>\n      <td>11</td>\n      <td>No</td>\n      <td>No phone service</td>\n      <td>DSL</td>\n      <td>Yes</td>\n      <td>...</td>\n      <td>No</td>\n      <td>No</td>\n      <td>No</td>\n      <td>No</td>\n      <td>Month-to-month</td>\n      <td>Yes</td>\n      <td>Electronic check</td>\n      <td>29.60</td>\n      <td>346.45</td>\n      <td>No</td>\n    </tr>\n    <tr>\n      <th>7041</th>\n      <td>8361-LTMKD</td>\n      <td>Male</td>\n      <td>1</td>\n      <td>Yes</td>\n      <td>No</td>\n      <td>4</td>\n      <td>Yes</td>\n      <td>Yes</td>\n      <td>Fiber optic</td>\n      <td>No</td>\n      <td>...</td>\n      <td>No</td>\n      <td>No</td>\n      <td>No</td>\n      <td>No</td>\n      <td>Month-to-month</td>\n      <td>Yes</td>\n      <td>Mailed check</td>\n      <td>74.40</td>\n      <td>306.6</td>\n      <td>Yes</td>\n    </tr>\n    <tr>\n      <th>7042</th>\n      <td>3186-AJIEK</td>\n      <td>Male</td>\n      <td>0</td>\n      <td>No</td>\n      <td>No</td>\n      <td>66</td>\n      <td>Yes</td>\n      <td>No</td>\n      <td>Fiber optic</td>\n      <td>Yes</td>\n      <td>...</td>\n      <td>Yes</td>\n      <td>Yes</td>\n      <td>Yes</td>\n      <td>Yes</td>\n      <td>Two year</td>\n      <td>Yes</td>\n      <td>Bank transfer (automatic)</td>\n      <td>105.65</td>\n      <td>6844.5</td>\n      <td>No</td>\n    </tr>\n  </tbody>\n</table>\n<p>7043 rows × 21 columns</p>\n</div>"
     },
     "execution_count": 20,
     "metadata": {},
     "output_type": "execute_result"
    }
   ],
   "source": [
    "df = pd.read_csv('data/telco.csv')\n",
    "df"
   ],
   "metadata": {
    "collapsed": false,
    "ExecuteTime": {
     "end_time": "2024-02-01T14:19:28.408490Z",
     "start_time": "2024-02-01T14:19:28.363321Z"
    }
   },
   "id": "4dc54645188e7bbb"
  },
  {
   "cell_type": "code",
   "execution_count": 2,
   "outputs": [
    {
     "data": {
      "text/plain": "      Partner  Dependents  PhoneService  PaperlessBilling  Churn  \\\n0        True       False         False              True  False   \n1       False       False          True             False  False   \n2       False       False          True              True   True   \n3       False       False         False             False  False   \n4       False       False          True              True   True   \n...       ...         ...           ...               ...    ...   \n7038     True        True          True              True  False   \n7039     True        True          True              True  False   \n7040     True        True         False              True  False   \n7041     True       False          True              True   True   \n7042    False       False          True              True  False   \n\n      gender_Female  gender_Male  MultipleLines_No  \\\n0              True        False             False   \n1             False         True              True   \n2             False         True              True   \n3             False         True             False   \n4              True        False              True   \n...             ...          ...               ...   \n7038          False         True             False   \n7039           True        False             False   \n7040           True        False             False   \n7041          False         True             False   \n7042          False         True              True   \n\n      MultipleLines_No phone service  MultipleLines_Yes  ...  \\\n0                               True              False  ...   \n1                              False              False  ...   \n2                              False              False  ...   \n3                               True              False  ...   \n4                              False              False  ...   \n...                              ...                ...  ...   \n7038                           False               True  ...   \n7039                           False               True  ...   \n7040                            True              False  ...   \n7041                           False               True  ...   \n7042                           False              False  ...   \n\n      StreamingTV_True  StreamingMovies_False  StreamingMovies_True  \\\n0                False                   True                 False   \n1                False                   True                 False   \n2                False                   True                 False   \n3                False                   True                 False   \n4                False                   True                 False   \n...                ...                    ...                   ...   \n7038              True                  False                  True   \n7039              True                  False                  True   \n7040             False                   True                 False   \n7041             False                   True                 False   \n7042              True                  False                  True   \n\n      Contract_Month-to-month  Contract_One year  Contract_Two year  \\\n0                        True              False              False   \n1                       False               True              False   \n2                        True              False              False   \n3                       False               True              False   \n4                        True              False              False   \n...                       ...                ...                ...   \n7038                    False               True              False   \n7039                    False               True              False   \n7040                     True              False              False   \n7041                     True              False              False   \n7042                    False              False               True   \n\n      PaymentMethod_Bank transfer (automatic)  \\\n0                                       False   \n1                                       False   \n2                                       False   \n3                                        True   \n4                                       False   \n...                                       ...   \n7038                                    False   \n7039                                    False   \n7040                                    False   \n7041                                    False   \n7042                                     True   \n\n      PaymentMethod_Credit card (automatic)  PaymentMethod_Electronic check  \\\n0                                     False                            True   \n1                                     False                           False   \n2                                     False                           False   \n3                                     False                           False   \n4                                     False                            True   \n...                                     ...                             ...   \n7038                                  False                           False   \n7039                                   True                           False   \n7040                                  False                            True   \n7041                                  False                           False   \n7042                                  False                           False   \n\n      PaymentMethod_Mailed check  \n0                          False  \n1                           True  \n2                           True  \n3                          False  \n4                          False  \n...                          ...  \n7038                        True  \n7039                       False  \n7040                       False  \n7041                        True  \n7042                       False  \n\n[7043 rows x 32 columns]",
      "text/html": "<div>\n<style scoped>\n    .dataframe tbody tr th:only-of-type {\n        vertical-align: middle;\n    }\n\n    .dataframe tbody tr th {\n        vertical-align: top;\n    }\n\n    .dataframe thead th {\n        text-align: right;\n    }\n</style>\n<table border=\"1\" class=\"dataframe\">\n  <thead>\n    <tr style=\"text-align: right;\">\n      <th></th>\n      <th>Partner</th>\n      <th>Dependents</th>\n      <th>PhoneService</th>\n      <th>PaperlessBilling</th>\n      <th>Churn</th>\n      <th>gender_Female</th>\n      <th>gender_Male</th>\n      <th>MultipleLines_No</th>\n      <th>MultipleLines_No phone service</th>\n      <th>MultipleLines_Yes</th>\n      <th>...</th>\n      <th>StreamingTV_True</th>\n      <th>StreamingMovies_False</th>\n      <th>StreamingMovies_True</th>\n      <th>Contract_Month-to-month</th>\n      <th>Contract_One year</th>\n      <th>Contract_Two year</th>\n      <th>PaymentMethod_Bank transfer (automatic)</th>\n      <th>PaymentMethod_Credit card (automatic)</th>\n      <th>PaymentMethod_Electronic check</th>\n      <th>PaymentMethod_Mailed check</th>\n    </tr>\n  </thead>\n  <tbody>\n    <tr>\n      <th>0</th>\n      <td>True</td>\n      <td>False</td>\n      <td>False</td>\n      <td>True</td>\n      <td>False</td>\n      <td>True</td>\n      <td>False</td>\n      <td>False</td>\n      <td>True</td>\n      <td>False</td>\n      <td>...</td>\n      <td>False</td>\n      <td>True</td>\n      <td>False</td>\n      <td>True</td>\n      <td>False</td>\n      <td>False</td>\n      <td>False</td>\n      <td>False</td>\n      <td>True</td>\n      <td>False</td>\n    </tr>\n    <tr>\n      <th>1</th>\n      <td>False</td>\n      <td>False</td>\n      <td>True</td>\n      <td>False</td>\n      <td>False</td>\n      <td>False</td>\n      <td>True</td>\n      <td>True</td>\n      <td>False</td>\n      <td>False</td>\n      <td>...</td>\n      <td>False</td>\n      <td>True</td>\n      <td>False</td>\n      <td>False</td>\n      <td>True</td>\n      <td>False</td>\n      <td>False</td>\n      <td>False</td>\n      <td>False</td>\n      <td>True</td>\n    </tr>\n    <tr>\n      <th>2</th>\n      <td>False</td>\n      <td>False</td>\n      <td>True</td>\n      <td>True</td>\n      <td>True</td>\n      <td>False</td>\n      <td>True</td>\n      <td>True</td>\n      <td>False</td>\n      <td>False</td>\n      <td>...</td>\n      <td>False</td>\n      <td>True</td>\n      <td>False</td>\n      <td>True</td>\n      <td>False</td>\n      <td>False</td>\n      <td>False</td>\n      <td>False</td>\n      <td>False</td>\n      <td>True</td>\n    </tr>\n    <tr>\n      <th>3</th>\n      <td>False</td>\n      <td>False</td>\n      <td>False</td>\n      <td>False</td>\n      <td>False</td>\n      <td>False</td>\n      <td>True</td>\n      <td>False</td>\n      <td>True</td>\n      <td>False</td>\n      <td>...</td>\n      <td>False</td>\n      <td>True</td>\n      <td>False</td>\n      <td>False</td>\n      <td>True</td>\n      <td>False</td>\n      <td>True</td>\n      <td>False</td>\n      <td>False</td>\n      <td>False</td>\n    </tr>\n    <tr>\n      <th>4</th>\n      <td>False</td>\n      <td>False</td>\n      <td>True</td>\n      <td>True</td>\n      <td>True</td>\n      <td>True</td>\n      <td>False</td>\n      <td>True</td>\n      <td>False</td>\n      <td>False</td>\n      <td>...</td>\n      <td>False</td>\n      <td>True</td>\n      <td>False</td>\n      <td>True</td>\n      <td>False</td>\n      <td>False</td>\n      <td>False</td>\n      <td>False</td>\n      <td>True</td>\n      <td>False</td>\n    </tr>\n    <tr>\n      <th>...</th>\n      <td>...</td>\n      <td>...</td>\n      <td>...</td>\n      <td>...</td>\n      <td>...</td>\n      <td>...</td>\n      <td>...</td>\n      <td>...</td>\n      <td>...</td>\n      <td>...</td>\n      <td>...</td>\n      <td>...</td>\n      <td>...</td>\n      <td>...</td>\n      <td>...</td>\n      <td>...</td>\n      <td>...</td>\n      <td>...</td>\n      <td>...</td>\n      <td>...</td>\n      <td>...</td>\n    </tr>\n    <tr>\n      <th>7038</th>\n      <td>True</td>\n      <td>True</td>\n      <td>True</td>\n      <td>True</td>\n      <td>False</td>\n      <td>False</td>\n      <td>True</td>\n      <td>False</td>\n      <td>False</td>\n      <td>True</td>\n      <td>...</td>\n      <td>True</td>\n      <td>False</td>\n      <td>True</td>\n      <td>False</td>\n      <td>True</td>\n      <td>False</td>\n      <td>False</td>\n      <td>False</td>\n      <td>False</td>\n      <td>True</td>\n    </tr>\n    <tr>\n      <th>7039</th>\n      <td>True</td>\n      <td>True</td>\n      <td>True</td>\n      <td>True</td>\n      <td>False</td>\n      <td>True</td>\n      <td>False</td>\n      <td>False</td>\n      <td>False</td>\n      <td>True</td>\n      <td>...</td>\n      <td>True</td>\n      <td>False</td>\n      <td>True</td>\n      <td>False</td>\n      <td>True</td>\n      <td>False</td>\n      <td>False</td>\n      <td>True</td>\n      <td>False</td>\n      <td>False</td>\n    </tr>\n    <tr>\n      <th>7040</th>\n      <td>True</td>\n      <td>True</td>\n      <td>False</td>\n      <td>True</td>\n      <td>False</td>\n      <td>True</td>\n      <td>False</td>\n      <td>False</td>\n      <td>True</td>\n      <td>False</td>\n      <td>...</td>\n      <td>False</td>\n      <td>True</td>\n      <td>False</td>\n      <td>True</td>\n      <td>False</td>\n      <td>False</td>\n      <td>False</td>\n      <td>False</td>\n      <td>True</td>\n      <td>False</td>\n    </tr>\n    <tr>\n      <th>7041</th>\n      <td>True</td>\n      <td>False</td>\n      <td>True</td>\n      <td>True</td>\n      <td>True</td>\n      <td>False</td>\n      <td>True</td>\n      <td>False</td>\n      <td>False</td>\n      <td>True</td>\n      <td>...</td>\n      <td>False</td>\n      <td>True</td>\n      <td>False</td>\n      <td>True</td>\n      <td>False</td>\n      <td>False</td>\n      <td>False</td>\n      <td>False</td>\n      <td>False</td>\n      <td>True</td>\n    </tr>\n    <tr>\n      <th>7042</th>\n      <td>False</td>\n      <td>False</td>\n      <td>True</td>\n      <td>True</td>\n      <td>False</td>\n      <td>False</td>\n      <td>True</td>\n      <td>True</td>\n      <td>False</td>\n      <td>False</td>\n      <td>...</td>\n      <td>True</td>\n      <td>False</td>\n      <td>True</td>\n      <td>False</td>\n      <td>False</td>\n      <td>True</td>\n      <td>True</td>\n      <td>False</td>\n      <td>False</td>\n      <td>False</td>\n    </tr>\n  </tbody>\n</table>\n<p>7043 rows × 32 columns</p>\n</div>"
     },
     "execution_count": 2,
     "metadata": {},
     "output_type": "execute_result"
    }
   ],
   "source": [
    "df_encoded, _ = get_df()\n",
    "df_encoded"
   ],
   "metadata": {
    "collapsed": false,
    "ExecuteTime": {
     "start_time": "2024-03-11T09:35:14.050023Z"
    }
   },
   "id": "4f8131400b028a35"
  },
  {
   "cell_type": "code",
   "execution_count": 12,
   "outputs": [
    {
     "name": "stdout",
     "output_type": "stream",
     "text": [
      "Number of factors by type:\n",
      "PI factors: 10 - ['PaperlessBilling', 'InternetService_Fiber optic', 'OnlineSecurity_False', 'OnlineBackup_False', 'DeviceProtection_False', 'TechSupport_False', 'StreamingTV_False', 'StreamingMovies_False', 'Contract_Month-to-month', 'PaymentMethod_Electronic check']\n",
      "Delta factors: 10 - ['Partner', 'Dependents', 'InternetService_DSL', 'InternetService_No', 'OnlineSecurity_True', 'TechSupport_True', 'Contract_One year', 'Contract_Two year', 'PaymentMethod_Bank transfer (automatic)', 'PaymentMethod_Credit card (automatic)']\n",
      "UN factors: 11 - ['PhoneService', 'gender_Female', 'gender_Male', 'MultipleLines_No', 'MultipleLines_No phone service', 'MultipleLines_Yes', 'OnlineBackup_True', 'DeviceProtection_True', 'StreamingTV_True', 'StreamingMovies_True', 'PaymentMethod_Mailed check']\n"
     ]
    },
    {
     "data": {
      "text/plain": "                                                     pi  \\\n0     [PaperlessBilling, OnlineSecurity_False, Onlin...   \n1           [PaperlessBilling, Contract_Month-to-month]   \n2                                                    []   \n3     [InternetService_Fiber optic, OnlineSecurity_F...   \n4     [OnlineSecurity_False, OnlineBackup_False, Dev...   \n...                                                 ...   \n1755  [InternetService_Fiber optic, OnlineSecurity_F...   \n1756  [PaperlessBilling, InternetService_Fiber optic...   \n1757  [PaperlessBilling, InternetService_Fiber optic...   \n1758  [OnlineSecurity_False, TechSupport_False, Stre...   \n1759  [PaperlessBilling, OnlineSecurity_False, Onlin...   \n\n                                                  delta  \\\n0                        [Partner, InternetService_DSL]   \n1     [InternetService_No, PaymentMethod_Bank transf...   \n2     [Partner, Dependents, InternetService_No, Cont...   \n3                                                    []   \n4     [InternetService_DSL, TechSupport_True, Contra...   \n...                                                 ...   \n1755                                                 []   \n1756                                                 []   \n1757                        [Partner, TechSupport_True]   \n1758  [InternetService_DSL, Contract_One year, Payme...   \n1759                              [InternetService_DSL]   \n\n                                                 reason decision  \n0     [PaperlessBilling, OnlineSecurity_False, Onlin...       pi  \n1     [InternetService_No, PaymentMethod_Bank transf...    delta  \n2     [Partner, Dependents, InternetService_No, Cont...    delta  \n3     [InternetService_Fiber optic, OnlineSecurity_F...       pi  \n4     [InternetService_DSL, TechSupport_True, Contra...    delta  \n...                                                 ...      ...  \n1755                                                 []    delta  \n1756  [PaperlessBilling, InternetService_Fiber optic...       pi  \n1757                        [Partner, TechSupport_True]    delta  \n1758  [InternetService_DSL, Contract_One year, Payme...    delta  \n1759  [PaperlessBilling, OnlineSecurity_False, Onlin...       pi  \n\n[1760 rows x 4 columns]",
      "text/html": "<div>\n<style scoped>\n    .dataframe tbody tr th:only-of-type {\n        vertical-align: middle;\n    }\n\n    .dataframe tbody tr th {\n        vertical-align: top;\n    }\n\n    .dataframe thead th {\n        text-align: right;\n    }\n</style>\n<table border=\"1\" class=\"dataframe\">\n  <thead>\n    <tr style=\"text-align: right;\">\n      <th></th>\n      <th>pi</th>\n      <th>delta</th>\n      <th>reason</th>\n      <th>decision</th>\n    </tr>\n  </thead>\n  <tbody>\n    <tr>\n      <th>0</th>\n      <td>[PaperlessBilling, OnlineSecurity_False, Onlin...</td>\n      <td>[Partner, InternetService_DSL]</td>\n      <td>[PaperlessBilling, OnlineSecurity_False, Onlin...</td>\n      <td>pi</td>\n    </tr>\n    <tr>\n      <th>1</th>\n      <td>[PaperlessBilling, Contract_Month-to-month]</td>\n      <td>[InternetService_No, PaymentMethod_Bank transf...</td>\n      <td>[InternetService_No, PaymentMethod_Bank transf...</td>\n      <td>delta</td>\n    </tr>\n    <tr>\n      <th>2</th>\n      <td>[]</td>\n      <td>[Partner, Dependents, InternetService_No, Cont...</td>\n      <td>[Partner, Dependents, InternetService_No, Cont...</td>\n      <td>delta</td>\n    </tr>\n    <tr>\n      <th>3</th>\n      <td>[InternetService_Fiber optic, OnlineSecurity_F...</td>\n      <td>[]</td>\n      <td>[InternetService_Fiber optic, OnlineSecurity_F...</td>\n      <td>pi</td>\n    </tr>\n    <tr>\n      <th>4</th>\n      <td>[OnlineSecurity_False, OnlineBackup_False, Dev...</td>\n      <td>[InternetService_DSL, TechSupport_True, Contra...</td>\n      <td>[InternetService_DSL, TechSupport_True, Contra...</td>\n      <td>delta</td>\n    </tr>\n    <tr>\n      <th>...</th>\n      <td>...</td>\n      <td>...</td>\n      <td>...</td>\n      <td>...</td>\n    </tr>\n    <tr>\n      <th>1755</th>\n      <td>[InternetService_Fiber optic, OnlineSecurity_F...</td>\n      <td>[]</td>\n      <td>[]</td>\n      <td>delta</td>\n    </tr>\n    <tr>\n      <th>1756</th>\n      <td>[PaperlessBilling, InternetService_Fiber optic...</td>\n      <td>[]</td>\n      <td>[PaperlessBilling, InternetService_Fiber optic...</td>\n      <td>pi</td>\n    </tr>\n    <tr>\n      <th>1757</th>\n      <td>[PaperlessBilling, InternetService_Fiber optic...</td>\n      <td>[Partner, TechSupport_True]</td>\n      <td>[Partner, TechSupport_True]</td>\n      <td>delta</td>\n    </tr>\n    <tr>\n      <th>1758</th>\n      <td>[OnlineSecurity_False, TechSupport_False, Stre...</td>\n      <td>[InternetService_DSL, Contract_One year, Payme...</td>\n      <td>[InternetService_DSL, Contract_One year, Payme...</td>\n      <td>delta</td>\n    </tr>\n    <tr>\n      <th>1759</th>\n      <td>[PaperlessBilling, OnlineSecurity_False, Onlin...</td>\n      <td>[InternetService_DSL]</td>\n      <td>[PaperlessBilling, OnlineSecurity_False, Onlin...</td>\n      <td>pi</td>\n    </tr>\n  </tbody>\n</table>\n<p>1760 rows × 4 columns</p>\n</div>"
     },
     "execution_count": 12,
     "metadata": {},
     "output_type": "execute_result"
    }
   ],
   "source": [
    "cases_dict = dataset_to_yaml(\"corr\", 0.25)\n",
    "pd.DataFrame(cases_dict)"
   ],
   "metadata": {
    "collapsed": false,
    "ExecuteTime": {
     "end_time": "2024-03-11T09:44:25.276843Z",
     "start_time": "2024-03-11T09:44:24.723786Z"
    }
   },
   "id": "5c04ebe05b624a1a"
  },
  {
   "cell_type": "code",
   "execution_count": null,
   "outputs": [],
   "source": [],
   "metadata": {
    "collapsed": false
   },
   "id": "c4503f0a2c6d2567"
  }
 ],
 "metadata": {
  "kernelspec": {
   "display_name": "Python 3",
   "language": "python",
   "name": "python3"
  },
  "language_info": {
   "codemirror_mode": {
    "name": "ipython",
    "version": 2
   },
   "file_extension": ".py",
   "mimetype": "text/x-python",
   "name": "python",
   "nbconvert_exporter": "python",
   "pygments_lexer": "ipython2",
   "version": "2.7.6"
  }
 },
 "nbformat": 4,
 "nbformat_minor": 5
}
