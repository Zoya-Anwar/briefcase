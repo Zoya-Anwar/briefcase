{
 "cells": [
  {
   "cell_type": "code",
   "execution_count": 4,
   "metadata": {
    "ExecuteTime": {
     "end_time": "2023-10-10T09:49:38.985444Z",
     "start_time": "2023-10-10T09:49:38.565273Z"
    }
   },
   "outputs": [],
   "source": [
    "import import_ipynb\n",
    "import pandas as pd\n",
    "import warnings\n",
    "import copy\n",
    "import numpy as np\n",
    "\n",
    "\n",
    "warnings.filterwarnings(\"ignore\")\n",
    "\n",
    "\n",
    "def get_admission():\n",
    "    df = pd.read_csv('admission.csv')\n",
    "    y = 'Chance of Admit '\n",
    "\n",
    "    # drop irrelevant column\n",
    "    df = df.drop(['Serial No.'], axis=1)\n",
    "\n",
    "    # transform outcome values into binary numbers\n",
    "    df[y] = round(df[y])\n",
    "\n",
    "    # take the correltations with y\n",
    "    cor = df.corr()[y].tolist()\n",
    "    \n",
    "    # normalize values\n",
    "    df = round((df - df.min())/(df.max() - df.min()),2)\n",
    "    \n",
    "    # randomnize order\n",
    "    df = df.sample(frac=1)\n",
    "    \n",
    "    return df, y, ['Research'], cor\n"
   ]
  },
  {
   "cell_type": "code",
   "execution_count": 11,
   "metadata": {
    "ExecuteTime": {
     "end_time": "2023-10-10T10:33:08.809894Z",
     "start_time": "2023-10-10T10:33:08.560894Z"
    }
   },
   "outputs": [
    {
     "data": {
      "text/plain": "(      class_p  cap-shape_b  cap-shape_c  cap-shape_f  cap-shape_k  \\\n 750     False        False        False        False        False   \n 8105    False        False        False        False         True   \n 2600    False        False        False         True        False   \n 7158    False         True        False        False        False   \n 1658    False        False        False         True        False   \n ...       ...          ...          ...          ...          ...   \n 6840     True        False        False        False        False   \n 4307     True        False        False         True        False   \n 7621     True        False        False        False         True   \n 107     False         True        False        False        False   \n 535     False        False        False        False        False   \n \n       cap-shape_s  cap-shape_x  cap-surface_f  cap-surface_g  cap-surface_s  \\\n 750         False         True          False          False          False   \n 8105        False        False          False          False           True   \n 2600        False        False           True          False          False   \n 7158        False        False          False          False           True   \n 1658        False        False           True          False          False   \n ...           ...          ...            ...            ...            ...   \n 6840        False         True          False          False           True   \n 4307        False        False          False          False          False   \n 7621        False        False          False          False          False   \n 107         False        False          False          False          False   \n 535         False         True           True          False          False   \n \n       ...  population_s  population_v  population_y  habitat_d  habitat_g  \\\n 750   ...          True         False         False      False      False   \n 8105  ...         False          True         False      False      False   \n 2600  ...         False         False          True       True      False   \n 7158  ...         False         False         False      False       True   \n 1658  ...          True         False         False      False       True   \n ...   ...           ...           ...           ...        ...        ...   \n 6840  ...         False          True         False      False      False   \n 4307  ...         False          True         False       True      False   \n 7621  ...         False          True         False      False      False   \n 107   ...          True         False         False      False      False   \n 535   ...          True         False         False      False       True   \n \n       habitat_l  habitat_m  habitat_p  habitat_u  habitat_w  \n 750       False      False       True      False      False  \n 8105       True      False      False      False      False  \n 2600      False      False      False      False      False  \n 7158      False      False      False      False      False  \n 1658      False      False      False      False      False  \n ...         ...        ...        ...        ...        ...  \n 6840      False      False       True      False      False  \n 4307      False      False      False      False      False  \n 7621       True      False      False      False      False  \n 107       False       True      False      False      False  \n 535       False      False      False      False      False  \n \n [8124 rows x 117 columns],\n 'class_p',\n ['cap-shape_b',\n  'cap-shape_c',\n  'cap-shape_f',\n  'cap-shape_k',\n  'cap-shape_s',\n  'cap-shape_x',\n  'cap-surface_f',\n  'cap-surface_g',\n  'cap-surface_s',\n  'cap-surface_y',\n  'cap-color_b',\n  'cap-color_c',\n  'cap-color_e',\n  'cap-color_g',\n  'cap-color_n',\n  'cap-color_p',\n  'cap-color_r',\n  'cap-color_u',\n  'cap-color_w',\n  'cap-color_y',\n  'bruises_f',\n  'bruises_t',\n  'odor_a',\n  'odor_c',\n  'odor_f',\n  'odor_l',\n  'odor_m',\n  'odor_n',\n  'odor_p',\n  'odor_s',\n  'odor_y',\n  'gill-attachment_a',\n  'gill-attachment_f',\n  'gill-spacing_c',\n  'gill-spacing_w',\n  'gill-size_b',\n  'gill-size_n',\n  'gill-color_b',\n  'gill-color_e',\n  'gill-color_g',\n  'gill-color_h',\n  'gill-color_k',\n  'gill-color_n',\n  'gill-color_o',\n  'gill-color_p',\n  'gill-color_r',\n  'gill-color_u',\n  'gill-color_w',\n  'gill-color_y',\n  'stalk-shape_e',\n  'stalk-shape_t',\n  'stalk-root_?',\n  'stalk-root_b',\n  'stalk-root_c',\n  'stalk-root_e',\n  'stalk-root_r',\n  'stalk-surface-above-ring_f',\n  'stalk-surface-above-ring_k',\n  'stalk-surface-above-ring_s',\n  'stalk-surface-above-ring_y',\n  'stalk-surface-below-ring_f',\n  'stalk-surface-below-ring_k',\n  'stalk-surface-below-ring_s',\n  'stalk-surface-below-ring_y',\n  'stalk-color-above-ring_b',\n  'stalk-color-above-ring_c',\n  'stalk-color-above-ring_e',\n  'stalk-color-above-ring_g',\n  'stalk-color-above-ring_n',\n  'stalk-color-above-ring_o',\n  'stalk-color-above-ring_p',\n  'stalk-color-above-ring_w',\n  'stalk-color-above-ring_y',\n  'stalk-color-below-ring_b',\n  'stalk-color-below-ring_c',\n  'stalk-color-below-ring_e',\n  'stalk-color-below-ring_g',\n  'stalk-color-below-ring_n',\n  'stalk-color-below-ring_o',\n  'stalk-color-below-ring_p',\n  'stalk-color-below-ring_w',\n  'stalk-color-below-ring_y',\n  'veil-color_n',\n  'veil-color_o',\n  'veil-color_w',\n  'veil-color_y',\n  'ring-number_n',\n  'ring-number_o',\n  'ring-number_t',\n  'ring-type_e',\n  'ring-type_f',\n  'ring-type_l',\n  'ring-type_n',\n  'ring-type_p',\n  'spore-print-color_b',\n  'spore-print-color_h',\n  'spore-print-color_k',\n  'spore-print-color_n',\n  'spore-print-color_o',\n  'spore-print-color_r',\n  'spore-print-color_u',\n  'spore-print-color_w',\n  'spore-print-color_y',\n  'population_a',\n  'population_c',\n  'population_n',\n  'population_s',\n  'population_v',\n  'population_y',\n  'habitat_d',\n  'habitat_g',\n  'habitat_l',\n  'habitat_m',\n  'habitat_p',\n  'habitat_u',\n  'habitat_w'],\n [1.0,\n  -0.1825666895051125,\n  0.023007450962256086,\n  0.018525863881447186,\n  0.1635650808562086,\n  -0.06066392808019997,\n  -0.026885747348740583,\n  -0.19541477669456353,\n  0.02300745096225599,\n  0.09545448428229955,\n  0.08867702391665128,\n  0.06754404517616519,\n  -0.030910302793344377,\n  0.09711241151696091,\n  -0.04645578646283912,\n  -0.04435988270150646,\n  0.03470228376929979,\n  -0.0428535295236856,\n  -0.042853529523685714,\n  -0.13368288213884558,\n  0.11301388688237962,\n  0.5015303774075575,\n  -0.5015303774075601,\n  -0.21952922241349918,\n  0.16127824377950875,\n  0.6238419598140379,\n  -0.21952922241349934,\n  0.06915876083185794,\n  -0.7855566222366999,\n  0.1869839504781082,\n  0.2863596480470107,\n  0.2863596480470102,\n  -0.12919986026788371,\n  0.12919986026788344,\n  0.3483867851842734,\n  -0.348386785184275,\n  -0.5400243574330158,\n  0.5400243574330161,\n  0.5388081615534445,\n  -0.10549100033272456,\n  0.12028463137353682,\n  0.15069434851292832,\n  -0.14964064018821704,\n  -0.28894290102217096,\n  -0.08596188733731128,\n  -0.050379722975029115,\n  0.05642604818907659,\n  -0.19535917121359506,\n  -0.2313162223126861,\n  -0.04682810363234032,\n  0.10201901701656099,\n  -0.1020190170165608,\n  0.3020011029737887,\n  0.017711782062167232,\n  -0.21854760016988373,\n  -0.2028388599834232,\n  -0.1500868827567863,\n  -0.1195032030720183,\n  0.5876582576306927,\n  -0.49131418071169614,\n  -0.016198352236787995,\n  -0.13678187461175825,\n  0.5735240117095761,\n  -0.4254440458550031,\n  -0.08167385587597321,\n  0.24566243917577246,\n  0.06915876083185794,\n  -0.10549100033272453,\n  -0.2664886838764475,\n  0.23316368640593524,\n  -0.15008688275678558,\n  0.2302768748299883,\n  -0.2177404335323299,\n  0.03254546629861117,\n  0.24566243917577288,\n  0.06915876083185794,\n  -0.10549100033272452,\n  -0.2664886838764485,\n  0.20396577010586373,\n  -0.15008688275678558,\n  0.23027687482998732,\n  -0.21411214894712755,\n  0.056426048189076476,\n  -0.10549100033272445,\n  -0.10549100033272452,\n  0.1405412461275309,\n  0.03254546629861117,\n  0.06915876083185794,\n  0.1821013741723785,\n  -0.20459959468739053,\n  0.22328591679316287,\n  -0.07437139702538,\n  0.451619066317332,\n  0.06915876083185794,\n  -0.5404689127747064,\n  -0.07437139702538006,\n  0.490229170569535,\n  -0.39683220090329024,\n  -0.416645297107253,\n  -0.07437139702538005,\n  0.09802365435296358,\n  -0.07437139702538043,\n  0.3573840060325164,\n  -0.07437139702538006,\n  -0.21487139719906037,\n  -0.13764485472021473,\n  -0.2195292224134979,\n  -0.15957159653994354,\n  0.44372237905534134,\n  -0.1070548606047637,\n  -0.1261231199145527,\n  -0.1650041459979941,\n  0.1551495328922165,\n  -0.1386266315225331,\n  0.3233457869287497,\n  0.11207815283453418,\n  -0.1500868827567861])"
     },
     "execution_count": 11,
     "metadata": {},
     "output_type": "execute_result"
    }
   ],
   "source": [
    "def get_mushroom():\n",
    "    df = pd.read_csv('mushrooms.csv')\n",
    "    y = 'class_p'\n",
    "    \n",
    "    # delete feature for which all instances have the same value\n",
    "    del df['veil-type']\n",
    "    \n",
    "    # convert categorical values into dummies\n",
    "    df = pd.get_dummies(df)\n",
    "    \n",
    "    # delete extra outcome column\n",
    "    del df['class_e']\n",
    "    \n",
    "    # take the correlations with y\n",
    "    cor_list = [float(i) for i in list(df.corr()[y])]\n",
    "    \n",
    "    # randomnize order\n",
    "    df = df.sample(frac=1)\n",
    "    \n",
    "    # make a list of binary columns (all)\n",
    "    binary = list(df.columns)\n",
    "    binary.remove(y)    \n",
    "    return df, y, binary, cor_list\n",
    "\n",
    "get_mushroom()"
   ]
  },
  {
   "cell_type": "code",
   "execution_count": 5,
   "metadata": {},
   "outputs": [],
   "source": [
    "def get_churn():\n",
    "\n",
    "    df = pd.read_csv('telco.csv')\n",
    "    y = 'Churn'\n",
    "\n",
    "    # convert Total Charges to a numerical data type.\n",
    "    df.TotalCharges = pd.to_numeric(df.TotalCharges, errors='coerce')\n",
    "\n",
    "    # remove missing values \n",
    "    df.dropna(inplace = True)\n",
    "    \n",
    "    # drop irrelevant column\n",
    "    del df['customerID']\n",
    "\n",
    "    # transform 'No internet sevice' into a separate column\n",
    "    for col in df:\n",
    "        i = 0\n",
    "        unique = list(df[col].unique())\n",
    "        if 'No internet service' in unique:\n",
    "            if i == 0:\n",
    "                internet_sevice = []\n",
    "                for i in df[col]:\n",
    "                    if i == 'No internet service':\n",
    "                        internet_sevice.append(0)\n",
    "                    else:\n",
    "                        internet_sevice.append(1)\n",
    "                df['Internet_sevice'] = internet_sevice\n",
    "                i =+ 1\n",
    "            df[col].replace(to_replace='No internet service', value = 'No', inplace = True)\n",
    "\n",
    "    # convert the Yes/No variables into a binary numeric variable\n",
    "    bool_cols = [col for col in df if np.isin(df[col].unique(), ['Yes', 'No']).all()]\n",
    "    for col in bool_cols:\n",
    "        df[col].replace(to_replace='Yes', value=1, inplace=True)\n",
    "        df[col].replace(to_replace='No',  value=0, inplace=True)\n",
    "\n",
    "    # convert categorical values into dummies\n",
    "    df = pd.get_dummies(df)\n",
    "\n",
    "    # take the correlations with y\n",
    "    cor = list(df.corr()[y])\n",
    "\n",
    "    # make a list of binary columns (all)\n",
    "    bool_cols = [col for col in df\n",
    "             if np.isin(df[col].dropna().unique(), [0, 1]).all()]\n",
    "\n",
    "    # normalize values\n",
    "    df = round((df - df.min())/(df.max() - df.min()),2)\n",
    "    \n",
    "    # randomnize order\n",
    "    df = df.sample(frac=1)\n",
    "\n",
    "    return df, y, bool_cols, cor\n",
    "\n"
   ]
  },
  {
   "cell_type": "code",
   "execution_count": null,
   "metadata": {},
   "outputs": [],
   "source": []
  }
 ],
 "metadata": {
  "kernelspec": {
   "display_name": "Python 3",
   "language": "python",
   "name": "python3"
  },
  "language_info": {
   "codemirror_mode": {
    "name": "ipython",
    "version": 3
   },
   "file_extension": ".py",
   "mimetype": "text/x-python",
   "name": "python",
   "nbconvert_exporter": "python",
   "pygments_lexer": "ipython3",
   "version": "3.6.5"
  }
 },
 "nbformat": 4,
 "nbformat_minor": 2
}
