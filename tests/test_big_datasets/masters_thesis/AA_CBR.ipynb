{
 "cells": [
  {
   "cell_type": "markdown",
   "metadata": {},
   "source": [
    "In this file we implement a prediction algorithm based on AA-CBR, as introduced in Cyras, K., Satoh, K., & Toni, F. (2016, March). Abstract argumentation for case-based reasoning. In Fifteenth International Conference on the Principles of Knowledge Representation and Reasoning."
   ]
  },
  {
   "cell_type": "code",
   "execution_count": 5,
   "metadata": {
    "ExecuteTime": {
     "end_time": "2023-10-10T10:05:07.997543Z",
     "start_time": "2023-10-10T10:05:07.992020Z"
    }
   },
   "outputs": [],
   "source": [
    "import pandas as pd\n",
    "import import_ipynb\n",
    "\n",
    "# the Mushroom data set is prepared in another file\n",
    "import Data_preparation as d\n",
    "\n",
    "# the objects Case, Feature and CB are defined in another file\n",
    "from Classes import Case, Feature, CB\n",
    "\n",
    "# selection of important features\n",
    "important_mushroom = ['odor_a', 'odor_c', 'odor_f', 'odor_l', 'odor_n', 'odor_p', 'gill-size_b', 'gill-size_n', \n",
    "        'gill-color_b', 'stalk-surface-above-ring_k', 'stalk-surface-below-ring_y', 'ring-type_f', 'spore-print-color_k', \n",
    "                      'spore-print-color_n', 'spore-print-color_r', 'spore-print-color_u', 'population_c']\n",
    "\n",
    "def create_cb():\n",
    "    \n",
    "    # import data, name of the outcome variables and list of feature correlations with the outcome variable\n",
    "    data, y_name, _,_ = d.get_mushroom()\n",
    "    # we take some subset, to speed up\n",
    "    data = data.iloc[0:500,:]\n",
    "    \n",
    "    # we create a list of all features, consisting of all columns that are important and not the outcome variable\n",
    "    features = []\n",
    "    for col in data.columns:\n",
    "        if col != y_name:\n",
    "            if col in important_mushroom:\n",
    "                features.append(Feature(col, None, None))\n",
    "                \n",
    "    # we create a case base\n",
    "    cb = []\n",
    "    for i, row in data.iterrows():\n",
    "        outcome = row[y_name]\n",
    "        f_s = {}\n",
    "        \n",
    "        for f in features:\n",
    "            # only features that are present (value 1) are added\n",
    "            if row[f.name] > 0:\n",
    "                f_s[f] = row[f.name]\n",
    "                            \n",
    "        # we define as case as a triple (name, fact situation, outcome)\n",
    "        cb.append(Case(i, f_s, outcome))\n",
    "        \n",
    "    return(CB(cb))\n"
   ]
  },
  {
   "cell_type": "markdown",
   "metadata": {},
   "source": [
    "Let the system make a prediction by finding out whether the default outcome is part of the grounded extension"
   ]
  },
  {
   "cell_type": "code",
   "execution_count": 6,
   "metadata": {
    "ExecuteTime": {
     "end_time": "2023-10-10T10:05:09.131818Z",
     "start_time": "2023-10-10T10:05:09.127282Z"
    }
   },
   "outputs": [],
   "source": [
    "\n",
    "# receives an argument A and some cb\n",
    "# returns all arguments in the cb that are attacked by A\n",
    "def are_attacked(attacker, cb):\n",
    "    more_specific = []\n",
    "    for case in cb:\n",
    "        if attacker.outcome != case.outcome:\n",
    "            if set(attacker.fs.keys()) > set(case.fs.keys()):\n",
    "                more_specific.append(case)\n",
    "    \n",
    "    removals = []\n",
    "    for case in more_specific:\n",
    "        for other_attacker in cb:\n",
    "            if set(attacker.fs.keys()) > set(other_attacker.fs.keys()):\n",
    "                if set(other_attacker.fs.keys()) > case.fs.keys():\n",
    "                    removals.append(case)\n",
    "                    \n",
    "    attacked = [a for a in more_specific if a not in removals]\n",
    "    return attacked\n",
    "                \n",
    "# receives an argument A and some cb\n",
    "# returns whether A is unattacked by the cb (True/False)\n",
    "def is_unattacked(argument, cb):\n",
    "    for case in cb:\n",
    "        if argument.outcome != case.outcome:\n",
    "            if set(argument.fs.keys()) < set(case.fs.keys()):\n",
    "                return False\n",
    "    return True\n",
    "\n",
    "# receives some cb\n",
    "# returns all arguments in the cb that are unattacked\n",
    "def get_unattacked(cb):\n",
    "    unattacked = []\n",
    "    for argument in cb:\n",
    "        if is_unattacked(argument, cb):\n",
    "            unattacked.append(argument)\n",
    "    return unattacked\n",
    "\n",
    "# receives some cb\n",
    "# returns the grounded extension of the argument framework for that cb \n",
    "def find_grounded(cb):    \n",
    "    increasing = True\n",
    "    old_len_grounded = 0\n",
    "    while increasing:\n",
    "        grounded = get_unattacked(cb)\n",
    "        if len(grounded) > old_len_grounded:\n",
    "            for g in grounded:\n",
    "                attacked = are_attacked(g, cb)\n",
    "            cb = [i for i in cb if i not in attacked]\n",
    "            old_len_grounded = len(grounded)\n",
    "        else:\n",
    "            increasing = False \n",
    "            \n",
    "    return grounded\n",
    "            \n",
    "# receives a new case and some cb\n",
    "# returns a prediction for the new case\n",
    "def make_prediction(new_case, cb):\n",
    "    removals = []\n",
    "    for case in cb.cases:\n",
    "        for feature in case.fs.keys():\n",
    "            if feature not in new_case.fs.keys():\n",
    "                removals.append(case)\n",
    "                break\n",
    "                \n",
    "    unattacked = [i for i in cb.cases if i not in removals]\n",
    "\n",
    "    default = Case('default',{},0)\n",
    "    unattacked.append(default)\n",
    "    \n",
    "    grounded = find_grounded(unattacked)\n",
    "\n",
    "    if default in grounded:\n",
    "        return default.outcome\n",
    "    else:\n",
    "        return default.opposite_outcome\n",
    "    "
   ]
  },
  {
   "cell_type": "code",
   "execution_count": 7,
   "metadata": {
    "ExecuteTime": {
     "end_time": "2023-10-10T10:05:10.270699Z",
     "start_time": "2023-10-10T10:05:09.637309Z"
    }
   },
   "outputs": [
    {
     "name": "stdout",
     "output_type": "stream",
     "text": [
      "1.0\n"
     ]
    }
   ],
   "source": [
    "# Example code to run a test\n",
    "def run_aa_cbr():\n",
    "\n",
    "    cb = create_cb()\n",
    "    test, train = cb.split(0.1)\n",
    "    \n",
    "    correct = 0\n",
    "    for t in test.cases:\n",
    "        pre = make_prediction(t, train)\n",
    "        if pre == t.outcome:\n",
    "            correct += 1\n",
    "    print(correct/test.length)\n",
    "    \n",
    "run_aa_cbr()"
   ]
  },
  {
   "cell_type": "code",
   "execution_count": 7,
   "metadata": {
    "ExecuteTime": {
     "end_time": "2023-10-10T10:05:10.273575Z",
     "start_time": "2023-10-10T10:05:10.269673Z"
    }
   },
   "outputs": [],
   "source": []
  },
  {
   "cell_type": "code",
   "execution_count": null,
   "outputs": [],
   "source": [],
   "metadata": {
    "collapsed": false
   }
  }
 ],
 "metadata": {
  "kernelspec": {
   "display_name": "Python 3",
   "language": "python",
   "name": "python3"
  },
  "language_info": {
   "codemirror_mode": {
    "name": "ipython",
    "version": 3
   },
   "file_extension": ".py",
   "mimetype": "text/x-python",
   "name": "python",
   "nbconvert_exporter": "python",
   "pygments_lexer": "ipython3",
   "version": "3.6.5"
  }
 },
 "nbformat": 4,
 "nbformat_minor": 2
}
